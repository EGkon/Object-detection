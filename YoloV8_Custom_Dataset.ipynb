{
 "cells": [
  {
   "cell_type": "markdown",
   "id": "eb629546",
   "metadata": {},
   "source": [
    "# Image Labeling\n",
    "use labelImg for labeling the images "
   ]
  },
  {
   "cell_type": "code",
   "execution_count": 1,
   "id": "5d531d23-1323-47b4-81bf-25d6e0b14dde",
   "metadata": {},
   "outputs": [
    {
     "name": "stdout",
     "output_type": "stream",
     "text": [
      "Requirement already satisfied: labelImg in d:\\programs\\anaconda\\envs\\yolov8_custom\\lib\\site-packages (1.8.6)\n",
      "Requirement already satisfied: pyqt5 in d:\\programs\\anaconda\\envs\\yolov8_custom\\lib\\site-packages (from labelImg) (5.15.10)\n",
      "Requirement already satisfied: lxml in d:\\programs\\anaconda\\envs\\yolov8_custom\\lib\\site-packages (from labelImg) (5.1.0)\n",
      "Requirement already satisfied: PyQt5-sip<13,>=12.13 in d:\\programs\\anaconda\\envs\\yolov8_custom\\lib\\site-packages (from pyqt5->labelImg) (12.13.0)\n",
      "Requirement already satisfied: PyQt5-Qt5>=5.15.2 in d:\\programs\\anaconda\\envs\\yolov8_custom\\lib\\site-packages (from pyqt5->labelImg) (5.15.2)\n"
     ]
    }
   ],
   "source": [
    "!pip install labelImg"
   ]
  },
  {
   "cell_type": "markdown",
   "id": "420e0b8c",
   "metadata": {},
   "source": [
    "# Trainig"
   ]
  },
  {
   "cell_type": "markdown",
   "id": "8b6ad242",
   "metadata": {},
   "source": [
    "Create a file data_custom.yalm\n",
    "\n",
    "Inside the file set the directories for train and validation\n",
    "\n",
    "\"\"\"\n",
    "train: ./train\n",
    "val: ./val\n",
    "\n",
    "nc=1 //depense of the classes\n",
    "\n",
    "names:[\"class_name\"]\n",
    "\n",
    "\"\"\"\n",
    "\n",
    "Also a file classes with the names of the classes"
   ]
  },
  {
   "cell_type": "code",
   "execution_count": 8,
   "id": "63dd5876",
   "metadata": {},
   "outputs": [
    {
     "name": "stdout",
     "output_type": "stream",
     "text": [
      "Requirement already satisfied: ultralytics in d:\\programs\\anaconda\\envs\\yolov8_custom\\lib\\site-packages (8.1.23)\n",
      "Requirement already satisfied: matplotlib>=3.3.0 in d:\\programs\\anaconda\\envs\\yolov8_custom\\lib\\site-packages (from ultralytics) (3.8.3)\n",
      "Requirement already satisfied: opencv-python>=4.6.0 in d:\\programs\\anaconda\\envs\\yolov8_custom\\lib\\site-packages (from ultralytics) (4.9.0.80)\n",
      "Requirement already satisfied: pillow>=7.1.2 in d:\\programs\\anaconda\\envs\\yolov8_custom\\lib\\site-packages (from ultralytics) (10.2.0)\n",
      "Requirement already satisfied: pyyaml>=5.3.1 in d:\\programs\\anaconda\\envs\\yolov8_custom\\lib\\site-packages (from ultralytics) (6.0.1)\n",
      "Requirement already satisfied: requests>=2.23.0 in d:\\programs\\anaconda\\envs\\yolov8_custom\\lib\\site-packages (from ultralytics) (2.31.0)\n",
      "Requirement already satisfied: scipy>=1.4.1 in d:\\programs\\anaconda\\envs\\yolov8_custom\\lib\\site-packages (from ultralytics) (1.12.0)\n",
      "Requirement already satisfied: torch>=1.8.0 in d:\\programs\\anaconda\\envs\\yolov8_custom\\lib\\site-packages (from ultralytics) (2.2.1+cu121)\n",
      "Requirement already satisfied: torchvision>=0.9.0 in d:\\programs\\anaconda\\envs\\yolov8_custom\\lib\\site-packages (from ultralytics) (0.17.1+cu121)\n",
      "Requirement already satisfied: tqdm>=4.64.0 in d:\\programs\\anaconda\\envs\\yolov8_custom\\lib\\site-packages (from ultralytics) (4.66.2)\n",
      "Requirement already satisfied: psutil in d:\\programs\\anaconda\\envs\\yolov8_custom\\lib\\site-packages (from ultralytics) (5.9.0)\n",
      "Requirement already satisfied: py-cpuinfo in d:\\programs\\anaconda\\envs\\yolov8_custom\\lib\\site-packages (from ultralytics) (9.0.0)\n",
      "Requirement already satisfied: thop>=0.1.1 in d:\\programs\\anaconda\\envs\\yolov8_custom\\lib\\site-packages (from ultralytics) (0.1.1.post2209072238)\n",
      "Requirement already satisfied: pandas>=1.1.4 in d:\\programs\\anaconda\\envs\\yolov8_custom\\lib\\site-packages (from ultralytics) (2.2.1)\n",
      "Requirement already satisfied: seaborn>=0.11.0 in d:\\programs\\anaconda\\envs\\yolov8_custom\\lib\\site-packages (from ultralytics) (0.13.2)\n",
      "Requirement already satisfied: contourpy>=1.0.1 in d:\\programs\\anaconda\\envs\\yolov8_custom\\lib\\site-packages (from matplotlib>=3.3.0->ultralytics) (1.2.0)\n",
      "Requirement already satisfied: cycler>=0.10 in d:\\programs\\anaconda\\envs\\yolov8_custom\\lib\\site-packages (from matplotlib>=3.3.0->ultralytics) (0.12.1)\n",
      "Requirement already satisfied: fonttools>=4.22.0 in d:\\programs\\anaconda\\envs\\yolov8_custom\\lib\\site-packages (from matplotlib>=3.3.0->ultralytics) (4.49.0)\n",
      "Requirement already satisfied: kiwisolver>=1.3.1 in d:\\programs\\anaconda\\envs\\yolov8_custom\\lib\\site-packages (from matplotlib>=3.3.0->ultralytics) (1.4.5)\n",
      "Requirement already satisfied: numpy<2,>=1.21 in d:\\programs\\anaconda\\envs\\yolov8_custom\\lib\\site-packages (from matplotlib>=3.3.0->ultralytics) (1.26.4)\n",
      "Requirement already satisfied: packaging>=20.0 in d:\\programs\\anaconda\\envs\\yolov8_custom\\lib\\site-packages (from matplotlib>=3.3.0->ultralytics) (23.2)\n",
      "Requirement already satisfied: pyparsing>=2.3.1 in d:\\programs\\anaconda\\envs\\yolov8_custom\\lib\\site-packages (from matplotlib>=3.3.0->ultralytics) (3.1.1)\n",
      "Requirement already satisfied: python-dateutil>=2.7 in d:\\programs\\anaconda\\envs\\yolov8_custom\\lib\\site-packages (from matplotlib>=3.3.0->ultralytics) (2.8.2)\n",
      "Requirement already satisfied: importlib-resources>=3.2.0 in d:\\programs\\anaconda\\envs\\yolov8_custom\\lib\\site-packages (from matplotlib>=3.3.0->ultralytics) (6.1.2)\n",
      "Requirement already satisfied: pytz>=2020.1 in d:\\programs\\anaconda\\envs\\yolov8_custom\\lib\\site-packages (from pandas>=1.1.4->ultralytics) (2023.3.post1)\n",
      "Requirement already satisfied: tzdata>=2022.7 in d:\\programs\\anaconda\\envs\\yolov8_custom\\lib\\site-packages (from pandas>=1.1.4->ultralytics) (2024.1)\n",
      "Requirement already satisfied: charset-normalizer<4,>=2 in d:\\programs\\anaconda\\envs\\yolov8_custom\\lib\\site-packages (from requests>=2.23.0->ultralytics) (2.0.4)\n",
      "Requirement already satisfied: idna<4,>=2.5 in d:\\programs\\anaconda\\envs\\yolov8_custom\\lib\\site-packages (from requests>=2.23.0->ultralytics) (3.4)\n",
      "Requirement already satisfied: urllib3<3,>=1.21.1 in d:\\programs\\anaconda\\envs\\yolov8_custom\\lib\\site-packages (from requests>=2.23.0->ultralytics) (2.1.0)\n",
      "Requirement already satisfied: certifi>=2017.4.17 in d:\\programs\\anaconda\\envs\\yolov8_custom\\lib\\site-packages (from requests>=2.23.0->ultralytics) (2024.2.2)\n",
      "Requirement already satisfied: filelock in d:\\programs\\anaconda\\envs\\yolov8_custom\\lib\\site-packages (from torch>=1.8.0->ultralytics) (3.13.1)\n",
      "Requirement already satisfied: typing-extensions>=4.8.0 in d:\\programs\\anaconda\\envs\\yolov8_custom\\lib\\site-packages (from torch>=1.8.0->ultralytics) (4.10.0)\n",
      "Requirement already satisfied: sympy in d:\\programs\\anaconda\\envs\\yolov8_custom\\lib\\site-packages (from torch>=1.8.0->ultralytics) (1.12)\n",
      "Requirement already satisfied: networkx in d:\\programs\\anaconda\\envs\\yolov8_custom\\lib\\site-packages (from torch>=1.8.0->ultralytics) (3.2.1)\n",
      "Requirement already satisfied: jinja2 in d:\\programs\\anaconda\\envs\\yolov8_custom\\lib\\site-packages (from torch>=1.8.0->ultralytics) (3.1.3)\n",
      "Requirement already satisfied: fsspec in d:\\programs\\anaconda\\envs\\yolov8_custom\\lib\\site-packages (from torch>=1.8.0->ultralytics) (2024.2.0)\n",
      "Requirement already satisfied: colorama in d:\\programs\\anaconda\\envs\\yolov8_custom\\lib\\site-packages (from tqdm>=4.64.0->ultralytics) (0.4.6)\n",
      "Requirement already satisfied: zipp>=3.1.0 in d:\\programs\\anaconda\\envs\\yolov8_custom\\lib\\site-packages (from importlib-resources>=3.2.0->matplotlib>=3.3.0->ultralytics) (3.17.0)\n",
      "Requirement already satisfied: six>=1.5 in d:\\programs\\anaconda\\envs\\yolov8_custom\\lib\\site-packages (from python-dateutil>=2.7->matplotlib>=3.3.0->ultralytics) (1.16.0)\n",
      "Requirement already satisfied: MarkupSafe>=2.0 in d:\\programs\\anaconda\\envs\\yolov8_custom\\lib\\site-packages (from jinja2->torch>=1.8.0->ultralytics) (2.1.3)\n",
      "Requirement already satisfied: mpmath>=0.19 in d:\\programs\\anaconda\\envs\\yolov8_custom\\lib\\site-packages (from sympy->torch>=1.8.0->ultralytics) (1.3.0)\n"
     ]
    }
   ],
   "source": [
    "!pip install ultralytics"
   ]
  },
  {
   "cell_type": "markdown",
   "id": "ee9a091a",
   "metadata": {},
   "source": [
    "Install the newest vesrion of pytorch"
   ]
  },
  {
   "cell_type": "markdown",
   "id": "5794f1df",
   "metadata": {},
   "source": [
    "# Model trainig\n",
    "\n",
    "yolo task=detect mode=train epochs=100 data=data_custom.yalm model=yolov8m.pt imgsz=640"
   ]
  },
  {
   "cell_type": "markdown",
   "id": "d728dfc2",
   "metadata": {},
   "source": [
    "# MOdel testing\n",
    "\n",
    "yolo taks=detect model=yolov8m_custom.pt show=True conf=0.5 source=Test_image.jpeg"
   ]
  }
 ],
 "metadata": {
  "kernelspec": {
   "display_name": "Python 3 (ipykernel)",
   "language": "python",
   "name": "python3"
  },
  "language_info": {
   "codemirror_mode": {
    "name": "ipython",
    "version": 3
   },
   "file_extension": ".py",
   "mimetype": "text/x-python",
   "name": "python",
   "nbconvert_exporter": "python",
   "pygments_lexer": "ipython3",
   "version": "3.9.18"
  }
 },
 "nbformat": 4,
 "nbformat_minor": 5
}
